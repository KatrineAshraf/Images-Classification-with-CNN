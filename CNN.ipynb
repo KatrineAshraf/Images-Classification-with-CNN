{
  "cells": [
    {
      "cell_type": "code",
      "execution_count": null,
      "metadata": {
        "id": "WRmJ3Qzr_HJf",
        "colab": {
          "base_uri": "https://localhost:8080/"
        },
        "outputId": "452f9c24-6d36-49de-e695-920e9a4c684e"
      },
      "outputs": [
        {
          "output_type": "stream",
          "name": "stdout",
          "text": [
            "Mounted at /content/drive\n"
          ]
        }
      ],
      "source": [
        "exfrom google.colab import drive\n",
        "drive.mount('/content/drive') "
      ]
    },
    {
      "cell_type": "code",
      "source": [
        "!gdown 1f6jT_MSh9D5srF1-gLD-AKuCnDs-EzwF"
      ],
      "metadata": {
        "colab": {
          "base_uri": "https://localhost:8080/"
        },
        "id": "K0c5t-fGXZay",
        "outputId": "64c9eacb-d8ab-4f79-e2dc-218f88d00daf"
      },
      "execution_count": null,
      "outputs": [
        {
          "output_type": "stream",
          "name": "stdout",
          "text": [
            "Access denied with the following error:\n",
            "\n",
            " \tCannot retrieve the public link of the file. You may need to change\n",
            "\tthe permission to 'Anyone with the link', or have had many accesses. \n",
            "\n",
            "You may still be able to access the file from the browser:\n",
            "\n",
            "\t https://drive.google.com/uc?id=1f6jT_MSh9D5srF1-gLD-AKuCnDs-EzwF \n",
            "\n"
          ]
        }
      ]
    },
    {
      "cell_type": "code",
      "source": [
        "!unzip DL_Assignment_1_Data.zip"
      ],
      "metadata": {
        "id": "kUc8exRgXh5v",
        "colab": {
          "base_uri": "https://localhost:8080/"
        },
        "outputId": "3dc50dd3-4531-410c-cb65-78b45eca5536"
      },
      "execution_count": null,
      "outputs": [
        {
          "output_type": "stream",
          "name": "stdout",
          "text": [
            "unzip:  cannot find or open DL_Assignment_1_Data.zip, DL_Assignment_1_Data.zip.zip or DL_Assignment_1_Data.zip.ZIP.\n"
          ]
        }
      ]
    },
    {
      "cell_type": "code",
      "execution_count": null,
      "metadata": {
        "id": "IBE-UP1eVF6U"
      },
      "outputs": [],
      "source": [
        "import numpy as np\n",
        "import tensorflow as tf\n",
        "import keras\n",
        "from tensorflow.keras.preprocessing.image import ImageDataGenerator\n",
        "import matplotlib.pyplot as plt\n",
        "from tensorflow.keras.models import Sequential,Model\n",
        "from tensorflow.keras import layers, Input\n",
        "from tensorflow.keras.layers import Dense,GlobalAveragePooling2D,Conv2D,Flatten,MaxPooling2D,Dropout\n",
        "from tensorflow.keras.layers import GlobalAveragePooling2D, MaxPool2D, AveragePooling2D\n",
        "from tensorflow.keras.layers import ReLU, concatenate\n",
        "from sklearn.metrics import f1_score, confusion_matrix, ConfusionMatrixDisplay"
      ]
    },
    {
      "cell_type": "code",
      "execution_count": null,
      "metadata": {
        "id": "puUDnzwSV4sz"
      },
      "outputs": [],
      "source": [
        "classes = ['pink primrose',    'hard-leaved pocket orchid', 'canterbury bells', 'sweet pea',     'wild geranium',     'tiger lily',           'moon orchid',              'bird of paradise', 'monkshood',        'globe thistle',         # 00 - 09\n",
        "           'snapdragon',       \"colt's foot\",               'king protea',      'spear thistle', 'yellow iris',       'globe-flower',         'purple coneflower',        'peruvian lily',    'balloon flower',   'giant white arum lily', # 10 - 19\n",
        "           'fire lily',        'pincushion flower',         'fritillary',       'red ginger',    'grape hyacinth',    'corn poppy',           'prince of wales feathers', 'stemless gentian', 'artichoke',        'sweet william',         # 20 - 29\n",
        "           'carnation',        'garden phlox',              'love in the mist', 'cosmos',        'alpine sea holly',  'ruby-lipped cattleya', 'cape flower',              'great masterwort', 'siam tulip',       'lenten rose',           # 30 - 39\n",
        "           'barberton daisy',  'daffodil',                  'sword lily',       'poinsettia',    'bolero deep blue',  'wallflower',           'marigold',                 'buttercup',        'daisy',            'common dandelion',      # 40 - 49\n",
        "           'petunia',          'wild pansy',                'primula',          'sunflower',     'lilac hibiscus',    'bishop of llandaff',   'gaura',                    'geranium',         'orange dahlia',    'pink-yellow dahlia',    # 50 - 59\n",
        "           'cautleya spicata', 'japanese anemone',          'black-eyed susan', 'silverbush',    'californian poppy', 'osteospermum',         'spring crocus',            'iris',             'windflower',       'tree poppy',            # 60 - 69\n",
        "           'gazania',          'azalea',                    'water lily',       'rose',          'thorn apple',       'morning glory',        'passion flower',           'lotus',            'toad lily',        'anthurium',             # 70 - 79\n",
        "           'frangipani',       'clematis',                  'hibiscus',         'columbine',     'desert-rose',       'tree mallow',          'magnolia',                 'cyclamen ',        'watercress',       'canna lily',            # 80 - 89\n",
        "           'hippeastrum ',     'bee balm',                  'pink quill',       'foxglove',      'bougainvillea',     'camellia',             'mallow',                   'mexican petunia',  'bromelia',         'blanket flower',        # 90 - 99\n",
        "           'trumpet creeper',  'blackberry lily',           'common tulip',     'wild rose']\n"
      ]
    },
    {
      "cell_type": "code",
      "execution_count": null,
      "metadata": {
        "id": "F1kwe5EwjBiq"
      },
      "outputs": [],
      "source": [
        "#Rescale is a value by which we will multiply the data before any other processing.\n",
        "#Our original images consist in RGB coefficients in the 0-255, but such values would be too high for our model to process\n",
        "#so we target values between 0 and 1 instead by scaling with a 1/255. factor \n",
        "\n",
        "train_gen = ImageDataGenerator(rescale = 1./255 , validation_split = 0.1)\n",
        "\n",
        "valid_gen = ImageDataGenerator(rescale = 1./255, validation_split = 0.1)\n",
        "\n",
        "test_gen  = ImageDataGenerator(rescale = 1./255)"
      ]
    },
    {
      "cell_type": "code",
      "source": [
        "type(train_gen)"
      ],
      "metadata": {
        "colab": {
          "base_uri": "https://localhost:8080/"
        },
        "id": "4EtwBzUaZtpe",
        "outputId": "80ed5583-c67d-4d6b-e0fb-b88dc1d054ac"
      },
      "execution_count": null,
      "outputs": [
        {
          "output_type": "execute_result",
          "data": {
            "text/plain": [
              "keras.preprocessing.image.ImageDataGenerator"
            ]
          },
          "metadata": {},
          "execution_count": 3
        }
      ]
    },
    {
      "cell_type": "code",
      "execution_count": null,
      "metadata": {
        "id": "G3NFeAo4jHg0",
        "colab": {
          "base_uri": "https://localhost:8080/",
          "height": 415
        },
        "outputId": "e6ed2b3b-f1be-4441-87db-cdf273e9d3f5"
      },
      "outputs": [
        {
          "output_type": "error",
          "ename": "FileNotFoundError",
          "evalue": "ignored",
          "traceback": [
            "\u001b[0;31m---------------------------------------------------------------------------\u001b[0m",
            "\u001b[0;31mFileNotFoundError\u001b[0m                         Traceback (most recent call last)",
            "\u001b[0;32m<ipython-input-8-ae41d2b89997>\u001b[0m in \u001b[0;36m<module>\u001b[0;34m\u001b[0m\n\u001b[1;32m      5\u001b[0m                                           \u001b[0mclass_mode\u001b[0m\u001b[0;34m=\u001b[0m \u001b[0;34m'sparse'\u001b[0m\u001b[0;34m,\u001b[0m\u001b[0;34m\u001b[0m\u001b[0;34m\u001b[0m\u001b[0m\n\u001b[1;32m      6\u001b[0m                                           \u001b[0msubset\u001b[0m\u001b[0;34m=\u001b[0m\u001b[0;34m'training'\u001b[0m\u001b[0;34m,\u001b[0m\u001b[0;34m\u001b[0m\u001b[0;34m\u001b[0m\u001b[0m\n\u001b[0;32m----> 7\u001b[0;31m                                           batch_size= b_s)\n\u001b[0m\u001b[1;32m      8\u001b[0m valid_set = valid_gen.flow_from_directory(directory='/content/Data/train',\n\u001b[1;32m      9\u001b[0m                                            \u001b[0mtarget_size\u001b[0m\u001b[0;34m=\u001b[0m \u001b[0mtarget\u001b[0m\u001b[0;34m,\u001b[0m\u001b[0;34m\u001b[0m\u001b[0;34m\u001b[0m\u001b[0m\n",
            "\u001b[0;32m/usr/local/lib/python3.7/dist-packages/keras/preprocessing/image.py\u001b[0m in \u001b[0;36mflow_from_directory\u001b[0;34m(self, directory, target_size, color_mode, classes, class_mode, batch_size, shuffle, seed, save_to_dir, save_prefix, save_format, follow_links, subset, interpolation, keep_aspect_ratio)\u001b[0m\n\u001b[1;32m   1485\u001b[0m         \u001b[0msubset\u001b[0m\u001b[0;34m=\u001b[0m\u001b[0msubset\u001b[0m\u001b[0;34m,\u001b[0m\u001b[0;34m\u001b[0m\u001b[0;34m\u001b[0m\u001b[0m\n\u001b[1;32m   1486\u001b[0m         \u001b[0minterpolation\u001b[0m\u001b[0;34m=\u001b[0m\u001b[0minterpolation\u001b[0m\u001b[0;34m,\u001b[0m\u001b[0;34m\u001b[0m\u001b[0;34m\u001b[0m\u001b[0m\n\u001b[0;32m-> 1487\u001b[0;31m         dtype=self.dtype)\n\u001b[0m\u001b[1;32m   1488\u001b[0m \u001b[0;34m\u001b[0m\u001b[0m\n\u001b[1;32m   1489\u001b[0m   def flow_from_dataframe(self,\n",
            "\u001b[0;32m/usr/local/lib/python3.7/dist-packages/keras/preprocessing/image.py\u001b[0m in \u001b[0;36m__init__\u001b[0;34m(self, directory, image_data_generator, target_size, color_mode, classes, class_mode, batch_size, shuffle, seed, data_format, save_to_dir, save_prefix, save_format, follow_links, subset, interpolation, keep_aspect_ratio, dtype)\u001b[0m\n\u001b[1;32m    505\u001b[0m     \u001b[0;32mif\u001b[0m \u001b[0;32mnot\u001b[0m \u001b[0mclasses\u001b[0m\u001b[0;34m:\u001b[0m\u001b[0;34m\u001b[0m\u001b[0;34m\u001b[0m\u001b[0m\n\u001b[1;32m    506\u001b[0m       \u001b[0mclasses\u001b[0m \u001b[0;34m=\u001b[0m \u001b[0;34m[\u001b[0m\u001b[0;34m]\u001b[0m\u001b[0;34m\u001b[0m\u001b[0;34m\u001b[0m\u001b[0m\n\u001b[0;32m--> 507\u001b[0;31m       \u001b[0;32mfor\u001b[0m \u001b[0msubdir\u001b[0m \u001b[0;32min\u001b[0m \u001b[0msorted\u001b[0m\u001b[0;34m(\u001b[0m\u001b[0mos\u001b[0m\u001b[0;34m.\u001b[0m\u001b[0mlistdir\u001b[0m\u001b[0;34m(\u001b[0m\u001b[0mdirectory\u001b[0m\u001b[0;34m)\u001b[0m\u001b[0;34m)\u001b[0m\u001b[0;34m:\u001b[0m\u001b[0;34m\u001b[0m\u001b[0;34m\u001b[0m\u001b[0m\n\u001b[0m\u001b[1;32m    508\u001b[0m         \u001b[0;32mif\u001b[0m \u001b[0mos\u001b[0m\u001b[0;34m.\u001b[0m\u001b[0mpath\u001b[0m\u001b[0;34m.\u001b[0m\u001b[0misdir\u001b[0m\u001b[0;34m(\u001b[0m\u001b[0mos\u001b[0m\u001b[0;34m.\u001b[0m\u001b[0mpath\u001b[0m\u001b[0;34m.\u001b[0m\u001b[0mjoin\u001b[0m\u001b[0;34m(\u001b[0m\u001b[0mdirectory\u001b[0m\u001b[0;34m,\u001b[0m \u001b[0msubdir\u001b[0m\u001b[0;34m)\u001b[0m\u001b[0;34m)\u001b[0m\u001b[0;34m:\u001b[0m\u001b[0;34m\u001b[0m\u001b[0;34m\u001b[0m\u001b[0m\n\u001b[1;32m    509\u001b[0m           \u001b[0mclasses\u001b[0m\u001b[0;34m.\u001b[0m\u001b[0mappend\u001b[0m\u001b[0;34m(\u001b[0m\u001b[0msubdir\u001b[0m\u001b[0;34m)\u001b[0m\u001b[0;34m\u001b[0m\u001b[0;34m\u001b[0m\u001b[0m\n",
            "\u001b[0;31mFileNotFoundError\u001b[0m: [Errno 2] No such file or directory: '/content/Data/train'"
          ]
        }
      ],
      "source": [
        "b_s = 64\n",
        "target = (224,224)\n",
        "train_set = train_gen.flow_from_directory(directory= '/content/Data/train', \n",
        "                                         target_size= target,\n",
        "                                          class_mode= 'sparse',\n",
        "                                          subset='training',\n",
        "                                          batch_size= b_s)\n",
        "valid_set = valid_gen.flow_from_directory(directory='/content/Data/train',\n",
        "                                           target_size= target,\n",
        "                                          class_mode= 'sparse',\n",
        "                                          subset='validation',\n",
        "                                          batch_size= b_s)\n",
        "test_set = test_gen.flow_from_directory(directory='/content/Data/test',\n",
        "                                         target_size= target,\n",
        "                                          class_mode= 'sparse',\n",
        "                                          batch_size= b_s)"
      ]
    },
    {
      "cell_type": "code",
      "execution_count": null,
      "metadata": {
        "id": "LT0ToeP0_GVX"
      },
      "outputs": [],
      "source": []
    },
    {
      "cell_type": "code",
      "execution_count": null,
      "metadata": {
        "id": "QkSRl8xp_ben"
      },
      "outputs": [],
      "source": [
        "for i in range(train_set.num_classes):\n",
        "   img,l = train_set.next()\n",
        "   print(\"Photo of class\", i+1)\n",
        "   plt.imshow(img[0])\n",
        "   plt.show()\n",
        "train_set.reset"
      ]
    },
    {
      "cell_type": "code",
      "execution_count": null,
      "metadata": {
        "id": "mrtM6d6bNrJN",
        "colab": {
          "base_uri": "https://localhost:8080/"
        },
        "outputId": "20b15cc4-bf02-44fb-cff2-5363bdb3607d"
      },
      "outputs": [
        {
          "output_type": "stream",
          "name": "stdout",
          "text": [
            "Thu Nov 17 15:51:25 2022       \n",
            "+-----------------------------------------------------------------------------+\n",
            "| NVIDIA-SMI 460.32.03    Driver Version: 460.32.03    CUDA Version: 11.2     |\n",
            "|-------------------------------+----------------------+----------------------+\n",
            "| GPU  Name        Persistence-M| Bus-Id        Disp.A | Volatile Uncorr. ECC |\n",
            "| Fan  Temp  Perf  Pwr:Usage/Cap|         Memory-Usage | GPU-Util  Compute M. |\n",
            "|                               |                      |               MIG M. |\n",
            "|===============================+======================+======================|\n",
            "|   0  Tesla T4            Off  | 00000000:00:04.0 Off |                    0 |\n",
            "| N/A   43C    P8    10W /  70W |      0MiB / 15109MiB |      0%      Default |\n",
            "|                               |                      |                  N/A |\n",
            "+-------------------------------+----------------------+----------------------+\n",
            "                                                                               \n",
            "+-----------------------------------------------------------------------------+\n",
            "| Processes:                                                                  |\n",
            "|  GPU   GI   CI        PID   Type   Process name                  GPU Memory |\n",
            "|        ID   ID                                                   Usage      |\n",
            "|=============================================================================|\n",
            "|  No running processes found                                                 |\n",
            "+-----------------------------------------------------------------------------+\n"
          ]
        }
      ],
      "source": [
        "!nvidia-smi"
      ]
    },
    {
      "cell_type": "markdown",
      "metadata": {
        "id": "0MVQ5wX5DKMa"
      },
      "source": [
        "##SIMPLE MODEL"
      ]
    },
    {
      "cell_type": "code",
      "execution_count": null,
      "metadata": {
        "id": "kRaHwuHAQKqH",
        "colab": {
          "base_uri": "https://localhost:8080/"
        },
        "outputId": "baa359b0-9b14-42f9-c24c-89293fbf399a"
      },
      "outputs": [
        {
          "output_type": "stream",
          "name": "stdout",
          "text": [
            "Model: \"sequential_2\"\n",
            "_________________________________________________________________\n",
            " Layer (type)                Output Shape              Param #   \n",
            "=================================================================\n",
            " conv2d (Conv2D)             (None, 224, 224, 32)      896       \n",
            "                                                                 \n",
            " conv2d_1 (Conv2D)           (None, 224, 224, 32)      9248      \n",
            "                                                                 \n",
            " max_pooling2d (MaxPooling2D  (None, 112, 112, 32)     0         \n",
            " )                                                               \n",
            "                                                                 \n",
            " conv2d_2 (Conv2D)           (None, 112, 112, 64)      18496     \n",
            "                                                                 \n",
            " conv2d_3 (Conv2D)           (None, 112, 112, 64)      36928     \n",
            "                                                                 \n",
            " max_pooling2d_1 (MaxPooling  (None, 56, 56, 64)       0         \n",
            " 2D)                                                             \n",
            "                                                                 \n",
            " conv2d_4 (Conv2D)           (None, 56, 56, 128)       73856     \n",
            "                                                                 \n",
            " conv2d_5 (Conv2D)           (None, 56, 56, 128)       147584    \n",
            "                                                                 \n",
            " max_pooling2d_2 (MaxPooling  (None, 28, 28, 128)      0         \n",
            " 2D)                                                             \n",
            "                                                                 \n",
            " flatten (Flatten)           (None, 100352)            0         \n",
            "                                                                 \n",
            " dense_2 (Dense)             (None, 4096)              411045888 \n",
            "                                                                 \n",
            " dense_3 (Dense)             (None, 104)               426088    \n",
            "                                                                 \n",
            "=================================================================\n",
            "Total params: 411,758,984\n",
            "Trainable params: 411,500,616\n",
            "Non-trainable params: 258,368\n",
            "_________________________________________________________________\n"
          ]
        }
      ],
      "source": [
        "model = Sequential()\n",
        "#number of filters 32 , 3x3 kernel size , \n",
        "model.add(Conv2D(32, (3, 3), activation='relu',  padding='same', input_shape=train_set.image_shape)) \n",
        "# total of 32 filters, kernal size(3,3)\n",
        "model.add(Conv2D(32, (3, 3), activation='relu', padding='same'))\n",
        "model.add(MaxPooling2D((2, 2)))\n",
        "model.add(Conv2D(64, (3, 3), activation='relu', padding='same'))\n",
        "model.add(Conv2D(64, (3, 3), activation='relu', padding='same', trainable = False))\n",
        "model.add(MaxPooling2D((2, 2)))\n",
        "model.add(Conv2D(128, (3, 3), activation='relu', padding='same', trainable = False))\n",
        "model.add(Conv2D(128, (3, 3), activation='relu', padding='same', trainable = False))\n",
        "model.add(MaxPooling2D((2, 2)))\n",
        "# example output part of the model\n",
        "model.add(Flatten())\n",
        "model.add(Dense(4096, activation='relu'))# fully connected layer\n",
        "model.add(Dense(104, actax'))\n",
        "model.summary()"
      ]
    },
    {
      "cell_type": "code",
      "execution_count": null,
      "metadata": {
        "id": "lhEUOJQkjaWX"
      },
      "outputs": [],
      "source": [
        "checkpoint_filepath = '/content/drive/MyDrive/DL_Data/tmp'\n",
        "model_checkpoint_callback = tf.keras.callbacks.ModelCheckpoint(\n",
        "    filepath=checkpoint_filepath,\n",
        "   monitor='val_loss',\n",
        "    verbose=1, \n",
        "    save_weights_only=True,\n",
        "    save_best_only=True,\n",
        "    mode='min')"
      ]
    },
    {
      "cell_type": "code",
      "execution_count": null,
      "metadata": {
        "id": "UMjIrKq7QiP_"
      },
      "outputs": [],
      "source": [
        "model.compile(\n",
        "    optimizer=tf.keras.optimizers.Adam(learning_rate=0.0001),\n",
        "    loss='sparse_categorical_crossentropy',\n",
        "    metrics=['accuracy']\n",
        ")"
      ]
    },
    {
      "cell_type": "code",
      "source": [
        "#calling the stopped training model\n",
        "model.load_weights('/content/drive/MyDrive/DL_Data/tmp')"
      ],
      "metadata": {
        "colab": {
          "base_uri": "https://localhost:8080/"
        },
        "id": "Er1t2DLbpOow",
        "outputId": "38fc836e-b75b-42ed-9b06-c0b37c8ed5bb"
      },
      "execution_count": null,
      "outputs": [
        {
          "output_type": "execute_result",
          "data": {
            "text/plain": [
              "<tensorflow.python.training.tracking.util.CheckpointLoadStatus at 0x7fb8e2c31d50>"
            ]
          },
          "metadata": {},
          "execution_count": 8
        }
      ]
    },
    {
      "cell_type": "code",
      "execution_count": null,
      "metadata": {
        "id": "9EvYjQ5OSP2d"
      },
      "outputs": [],
      "source": [
        "history = model.fit(\n",
        "    train_set,\n",
        "    verbose = 1,\n",
        "    epochs = 20,\n",
        "    validation_data= valid_set,\n",
        "    callbacks=[model_checkpoint_callback]\n",
        ")\n",
        "model.save(name=\"model\")"
      ]
    },
    {
      "cell_type": "code",
      "execution_count": null,
      "metadata": {
        "id": "IUpvnbqmIv48"
      },
      "outputs": [],
      "source": [
        "y_probs = model.predict(test_set)\n",
        "y_preds = y_probs.argmax(axis=1)"
      ]
    },
    {
      "cell_type": "code",
      "execution_count": null,
      "metadata": {
        "id": "rH8ouuTNQILp"
      },
      "outputs": [],
      "source": [
        "y_preds.shape"
      ]
    },
    {
      "cell_type": "code",
      "execution_count": null,
      "metadata": {
        "id": "YSy-ncNlmQ_0"
      },
      "outputs": [],
      "source": []
    },
    {
      "cell_type": "code",
      "execution_count": null,
      "metadata": {
        "id": "i8aD7lJcINVO"
      },
      "outputs": [],
      "source": [
        "f1 = f1_score(test_set.labels, y_preds, average='macro')\n",
        "cm = confusion_matrix(test_set.labels, y_preds)\n",
        "print(f1, \"\\n\", cm)"
      ]
    },
    {
      "cell_type": "code",
      "execution_count": null,
      "metadata": {
        "id": "MtZXuppKlOO6"
      },
      "outputs": [],
      "source": [
        "cm=confusion_matrix(y_preds,test_set.labels)\n",
        "disp=ConfusionMatrixDisplay(confusion_matrix=cm,display_labels=classes)\n",
        "fig, ax = plt.subplots(figsize=(104,104))\n",
        "disp.plot(ax=ax, xticks_rotation='vertical')\n",
        "plt.show()"
      ]
    },
    {
      "cell_type": "code",
      "execution_count": null,
      "metadata": {
        "id": "cDAK_V4KG_Ga"
      },
      "outputs": [],
      "source": [
        "acc = history.history['accuracy']\n",
        "val_acc = history.history['val_accuracy']\n",
        "\n",
        "epochs = range(1, len(acc) + 1)\n",
        "\n",
        "#Plot the training Accuracy vs Validation Accuracy\n",
        "plt.plot(epochs, acc, 'b', label='Training accurarcy')\n",
        "plt.plot(epochs, val_acc, 'r', label='Validation accurarcy')\n",
        "plt.title('Training and Validation Accurarcy')\n",
        "plt.legend()\n",
        "\n",
        "plt.show()"
      ]
    },
    {
      "cell_type": "code",
      "execution_count": null,
      "metadata": {
        "id": "9l8t3UftoWkN"
      },
      "outputs": [],
      "source": [
        "_, acc = model.evaluate(test_set, steps=len(test_set), verbose=0)\n",
        "print('%.3f' % (acc * 100.0))"
      ]
    },
    {
      "cell_type": "markdown",
      "metadata": {
        "id": "sF3dv6GfC35_"
      },
      "source": [
        "##ALEXNET MODEL"
      ]
    },
    {
      "cell_type": "code",
      "execution_count": null,
      "metadata": {
        "id": "OP8NXsnsC7CC",
        "colab": {
          "base_uri": "https://localhost:8080/"
        },
        "outputId": "b79da10c-7b57-4b93-bfea-e15e28af5534"
      },
      "outputs": [
        {
          "output_type": "stream",
          "name": "stdout",
          "text": [
            "Model: \"sequential\"\n",
            "_________________________________________________________________\n",
            " Layer (type)                Output Shape              Param #   \n",
            "=================================================================\n",
            " conv2d (Conv2D)             (None, 56, 56, 96)        34944     \n",
            "                                                                 \n",
            " lambda (Lambda)             (None, 56, 56, 96)        0         \n",
            "                                                                 \n",
            " activation (Activation)     (None, 56, 56, 96)        0         \n",
            "                                                                 \n",
            " max_pooling2d (MaxPooling2D  (None, 27, 27, 96)       0         \n",
            " )                                                               \n",
            "                                                                 \n",
            " conv2d_1 (Conv2D)           (None, 7, 7, 256)         614656    \n",
            "                                                                 \n",
            " lambda_1 (Lambda)           (None, 7, 7, 256)         0         \n",
            "                                                                 \n",
            " activation_1 (Activation)   (None, 7, 7, 256)         0         \n",
            "                                                                 \n",
            " max_pooling2d_1 (MaxPooling  (None, 3, 3, 256)        0         \n",
            " 2D)                                                             \n",
            "                                                                 \n",
            " conv2d_2 (Conv2D)           (None, 1, 1, 384)         885120    \n",
            "                                                                 \n",
            " activation_2 (Activation)   (None, 1, 1, 384)         0         \n",
            "                                                                 \n",
            " conv2d_3 (Conv2D)           (None, 1, 1, 384)         1327488   \n",
            "                                                                 \n",
            " activation_3 (Activation)   (None, 1, 1, 384)         0         \n",
            "                                                                 \n",
            " conv2d_4 (Conv2D)           (None, 1, 1, 256)         884992    \n",
            "                                                                 \n",
            " activation_4 (Activation)   (None, 1, 1, 256)         0         \n",
            "                                                                 \n",
            " flatten (Flatten)           (None, 256)               0         \n",
            "                                                                 \n",
            " dense (Dense)               (None, 4096)              1052672   \n",
            "                                                                 \n",
            " dropout (Dropout)           (None, 4096)              0         \n",
            "                                                                 \n",
            " dense_1 (Dense)             (None, 4096)              16781312  \n",
            "                                                                 \n",
            " dropout_1 (Dropout)         (None, 4096)              0         \n",
            "                                                                 \n",
            " dense_2 (Dense)             (None, 104)               426088    \n",
            "                                                                 \n",
            "=================================================================\n",
            "Total params: 22,007,272\n",
            "Trainable params: 22,007,272\n",
            "Non-trainable params: 0\n",
            "_________________________________________________________________\n"
          ]
        }
      ],
      "source": [
        "model1 = Sequential()\n",
        "#model1.add(layers.experimental.preprocessing.Resizing(224, 224, interpolation=\"bilinear\", input_shape=train_set.image_shape))\n",
        "model1.add(layers.Conv2D(96, 11, strides=4, padding='same', input_shape=train_set.image_shape))\n",
        "model1.add(layers.Lambda(tf.nn.local_response_normalization))\n",
        "model1.add(layers.Activation('relu'))\n",
        "model1.add(layers.MaxPooling2D(3, strides=2))\n",
        "model1.add(layers.Conv2D(256, 5, strides=4, padding='same'))\n",
        "model1.add(layers.Lambda(tf.nn.local_response_normalization))\n",
        "model1.add(layers.Activation('relu'))\n",
        "model1.add(layers.MaxPooling2D(3, strides=2))\n",
        "model1.add(layers.Conv2D(384, 3, strides=4, padding='same'))\n",
        "model1.add(layers.Activation('relu'))\n",
        "model1.add(layers.Conv2D(384, 3, strides=4, padding='same'))\n",
        "model1.add(layers.Activation('relu'))\n",
        "model1.add(layers.Conv2D(256, 3, strides=4, padding='same'))\n",
        "model1.add(layers.Activation('relu'))\n",
        "model1.add(layers.Flatten())\n",
        "model1.add(layers.Dense(4096, activation='relu'))\n",
        "model1.add(layers.Dropout(0.5)) # --> prevents overfitting\n",
        "model1.add(layers.Dense(4096, activation='relu'))\n",
        "model1.add(layers.Dropout(0.5))\n",
        "model1.add(layers.Dense(104, activation='softmax'))\n",
        "model1.summary()"
      ]
    },
    {
      "cell_type": "code",
      "execution_count": null,
      "metadata": {
        "id": "JOCtJ7BcGRRK"
      },
      "outputs": [],
      "source": [
        "model1.compile(\n",
        "                optimizer=tf.keras.optimizers.Adam(learning_rate=0.01),\n",
        "               loss='sparse_categorical_crossentropy',\n",
        "               metrics='accuracy')"
      ]
    },
    {
      "cell_type": "code",
      "source": [
        "checkpoint_filepath = '/content/drive/MyDrive/DL_Data/alexnet'\n",
        "model_checkpoint_callback1 = tf.keras.callbacks.ModelCheckpoint(\n",
        "    filepath=checkpoint_filepath,\n",
        "   monitor='val_loss',\n",
        "    verbose=1, \n",
        "    save_best_only=True,\n",
        "    mode='min')\n",
        "    \n"
      ],
      "metadata": {
        "id": "Qcw-8OgXnm5M"
      },
      "execution_count": null,
      "outputs": []
    },
    {
      "cell_type": "code",
      "execution_count": null,
      "metadata": {
        "id": "YOSkiX-EGv_8",
        "colab": {
          "base_uri": "https://localhost:8080/"
        },
        "outputId": "f5c14788-3767-49fa-cb06-afce1c260253"
      },
      "outputs": [
        {
          "output_type": "stream",
          "name": "stdout",
          "text": [
            "Epoch 1/20\n",
            "181/181 [==============================] - ETA: 0s - loss: 4.4286 - accuracy: 0.0564\n",
            "Epoch 1: val_loss improved from inf to 4.12979, saving model to /content/drive/MyDrive/DL_Data/alexnet\n"
          ]
        },
        {
          "output_type": "stream",
          "name": "stderr",
          "text": [
            "WARNING:absl:Found untraced functions such as _jit_compiled_convolution_op, _jit_compiled_convolution_op, _jit_compiled_convolution_op, _jit_compiled_convolution_op, _jit_compiled_convolution_op while saving (showing 5 of 5). These functions will not be directly callable after loading.\n"
          ]
        },
        {
          "output_type": "stream",
          "name": "stdout",
          "text": [
            "\b\b\b\b\b\b\b\b\b\b\b\b\b\b\b\b\b\b\b\b\b\b\b\b\b\b\b\b\b\b\b\b\b\b\b\b\b\b\b\b\b\b\b\b\b\b\b\b\b\b\b\b\b\b\b\b\b\b\b\b\b\b\b\b\b\b\b\b\b\b\b\b\b\b\b\b\b\b\b\b\b\b\b\b\r181/181 [==============================] - 53s 243ms/step - loss: 4.4286 - accuracy: 0.0564 - val_loss: 4.1298 - val_accuracy: 0.0602\n",
            "Epoch 2/20\n",
            "181/181 [==============================] - ETA: 0s - loss: 4.1948 - accuracy: 0.0604\n",
            "Epoch 2: val_loss did not improve from 4.12979\n",
            "181/181 [==============================] - 41s 225ms/step - loss: 4.1948 - accuracy: 0.0604 - val_loss: 4.1396 - val_accuracy: 0.0635\n",
            "Epoch 3/20\n",
            "181/181 [==============================] - ETA: 0s - loss: 4.1928 - accuracy: 0.0610\n",
            "Epoch 3: val_loss improved from 4.12979 to 4.12243, saving model to /content/drive/MyDrive/DL_Data/alexnet\n"
          ]
        },
        {
          "output_type": "stream",
          "name": "stderr",
          "text": [
            "WARNING:absl:Found untraced functions such as _jit_compiled_convolution_op, _jit_compiled_convolution_op, _jit_compiled_convolution_op, _jit_compiled_convolution_op, _jit_compiled_convolution_op while saving (showing 5 of 5). These functions will not be directly callable after loading.\n"
          ]
        },
        {
          "output_type": "stream",
          "name": "stdout",
          "text": [
            "\b\b\b\b\b\b\b\b\b\b\b\b\b\b\b\b\b\b\b\b\b\b\b\b\b\b\b\b\b\b\b\b\b\b\b\b\b\b\b\b\b\b\b\b\b\b\b\b\b\b\b\b\b\b\b\b\b\b\b\b\b\b\b\b\b\b\b\b\b\b\b\b\b\b\b\b\b\b\b\b\b\b\b\b\r181/181 [==============================] - 48s 263ms/step - loss: 4.1928 - accuracy: 0.0610 - val_loss: 4.1224 - val_accuracy: 0.0635\n",
            "Epoch 4/20\n",
            "181/181 [==============================] - ETA: 0s - loss: 4.1870 - accuracy: 0.0598\n",
            "Epoch 4: val_loss did not improve from 4.12243\n",
            "181/181 [==============================] - 40s 223ms/step - loss: 4.1870 - accuracy: 0.0598 - val_loss: 4.1349 - val_accuracy: 0.0602\n",
            "Epoch 5/20\n",
            "181/181 [==============================] - ETA: 0s - loss: 4.1893 - accuracy: 0.0579\n",
            "Epoch 5: val_loss did not improve from 4.12243\n",
            "181/181 [==============================] - 41s 226ms/step - loss: 4.1893 - accuracy: 0.0579 - val_loss: 4.1258 - val_accuracy: 0.0602\n",
            "Epoch 6/20\n",
            "181/181 [==============================] - ETA: 0s - loss: 4.1848 - accuracy: 0.0559\n",
            "Epoch 6: val_loss improved from 4.12243 to 4.12050, saving model to /content/drive/MyDrive/DL_Data/alexnet\n"
          ]
        },
        {
          "output_type": "stream",
          "name": "stderr",
          "text": [
            "WARNING:absl:Found untraced functions such as _jit_compiled_convolution_op, _jit_compiled_convolution_op, _jit_compiled_convolution_op, _jit_compiled_convolution_op, _jit_compiled_convolution_op while saving (showing 5 of 5). These functions will not be directly callable after loading.\n"
          ]
        },
        {
          "output_type": "stream",
          "name": "stdout",
          "text": [
            "\b\b\b\b\b\b\b\b\b\b\b\b\b\b\b\b\b\b\b\b\b\b\b\b\b\b\b\b\b\b\b\b\b\b\b\b\b\b\b\b\b\b\b\b\b\b\b\b\b\b\b\b\b\b\b\b\b\b\b\b\b\b\b\b\b\b\b\b\b\b\b\b\b\b\b\b\b\b\b\b\b\b\b\b\r181/181 [==============================] - 44s 244ms/step - loss: 4.1848 - accuracy: 0.0559 - val_loss: 4.1205 - val_accuracy: 0.0635\n"
          ]
        }
      ],
      "source": [
        "history1 = model1.fit(\n",
        "    train_set,\n",
        "    epochs = 20,\n",
        "    validation_data = valid_set,\n",
        "    \n",
        "   callbacks=[model_checkpoint_callback1]\n",
        ")\n",
        "model1.save(name=\"model1\")"
      ]
    },
    {
      "cell_type": "code",
      "source": [
        "f1 = f1_score(test_set.labels, y_preds, average='macro')\n",
        "cm = confusion_matrix(test_set.labels, y_preds)\n",
        "print(f1, \"\\n\", cm)"
      ],
      "metadata": {
        "id": "mZg0605OZeY3"
      },
      "execution_count": null,
      "outputs": []
    },
    {
      "cell_type": "code",
      "source": [
        "cm=confusion_matrix(y_preds,test_set.labels)\n",
        "disp=ConfusionMatrixDisplay(confusion_matrix=cm,display_labels=classes)\n",
        "fig, ax = plt.subplots(figsize=(104,104))\n",
        "disp.plot(ax=ax, xticks_rotation='vertical')\n",
        "plt.show()"
      ],
      "metadata": {
        "id": "LM0J2GSiZjcd"
      },
      "execution_count": null,
      "outputs": []
    },
    {
      "cell_type": "code",
      "execution_count": null,
      "metadata": {
        "id": "bYMKqDEUHgyi"
      },
      "outputs": [],
      "source": [
        "acc1 = history1.history['accuracy']\n",
        "val_acc1 = history.history['val_accuracy']\n",
        "\n",
        "epochs = range(1, len(acc) + 1)\n",
        "\n",
        "#Plot the training Accuracy vs Validation Accuracy\n",
        "plt.plot(epochs, acc1, 'b', label='Training accurarcy')\n",
        "plt.plot(epochs, val_acc1, 'r', label='Validation accurarcy')\n",
        "plt.title('Training and Validation Accurarcy')\n",
        "plt.legend()\n",
        "\n",
        "plt.show()"
      ]
    },
    {
      "cell_type": "markdown",
      "metadata": {
        "id": "8Jj-pqHtaMiG"
      },
      "source": [
        "##VGG"
      ]
    },
    {
      "cell_type": "code",
      "execution_count": null,
      "metadata": {
        "id": "18z6m8qWaRKt",
        "colab": {
          "base_uri": "https://localhost:8080/"
        },
        "outputId": "2fbe9c2d-10a4-4d97-e806-6a8712f16ba1"
      },
      "outputs": [
        {
          "output_type": "stream",
          "name": "stdout",
          "text": [
            "Model: \"sequential\"\n",
            "_________________________________________________________________\n",
            " Layer (type)                Output Shape              Param #   \n",
            "=================================================================\n",
            " conv2d (Conv2D)             (None, 224, 224, 64)      1792      \n",
            "                                                                 \n",
            " conv2d_1 (Conv2D)           (None, 224, 224, 64)      36928     \n",
            "                                                                 \n",
            " max_pooling2d (MaxPooling2D  (None, 112, 112, 64)     0         \n",
            " )                                                               \n",
            "                                                                 \n",
            " conv2d_2 (Conv2D)           (None, 112, 112, 128)     73856     \n",
            "                                                                 \n",
            " conv2d_3 (Conv2D)           (None, 112, 112, 128)     147584    \n",
            "                                                                 \n",
            " max_pooling2d_1 (MaxPooling  (None, 56, 56, 128)      0         \n",
            " 2D)                                                             \n",
            "                                                                 \n",
            " conv2d_4 (Conv2D)           (None, 56, 56, 256)       295168    \n",
            "                                                                 \n",
            " conv2d_5 (Conv2D)           (None, 56, 56, 256)       590080    \n",
            "                                                                 \n",
            " conv2d_6 (Conv2D)           (None, 56, 56, 256)       590080    \n",
            "                                                                 \n",
            " max_pooling2d_2 (MaxPooling  (None, 28, 28, 256)      0         \n",
            " 2D)                                                             \n",
            "                                                                 \n",
            " conv2d_7 (Conv2D)           (None, 28, 28, 512)       1180160   \n",
            "                                                                 \n",
            " conv2d_8 (Conv2D)           (None, 28, 28, 512)       2359808   \n",
            "                                                                 \n",
            " conv2d_9 (Conv2D)           (None, 28, 28, 512)       2359808   \n",
            "                                                                 \n",
            " max_pooling2d_3 (MaxPooling  (None, 14, 14, 512)      0         \n",
            " 2D)                                                             \n",
            "                                                                 \n",
            " conv2d_10 (Conv2D)          (None, 14, 14, 512)       2359808   \n",
            "                                                                 \n",
            " conv2d_11 (Conv2D)          (None, 14, 14, 512)       2359808   \n",
            "                                                                 \n",
            " conv2d_12 (Conv2D)          (None, 14, 14, 512)       2359808   \n",
            "                                                                 \n",
            " max_pooling2d_4 (MaxPooling  (None, 7, 7, 512)        0         \n",
            " 2D)                                                             \n",
            "                                                                 \n",
            " flatten (Flatten)           (None, 25088)             0         \n",
            "                                                                 \n",
            " dense (Dense)               (None, 4096)              102764544 \n",
            "                                                                 \n",
            " dense_1 (Dense)             (None, 4096)              16781312  \n",
            "                                                                 \n",
            " dense_2 (Dense)             (None, 104)               426088    \n",
            "                                                                 \n",
            "=================================================================\n",
            "Total params: 134,686,632\n",
            "Trainable params: 134,686,632\n",
            "Non-trainable params: 0\n",
            "_________________________________________________________________\n"
          ]
        }
      ],
      "source": [
        "model2 = Sequential()\n",
        "model2.add(Conv2D(input_shape=train_set.image_shape,filters=64,kernel_size=(3,3),padding=\"same\", activation=\"relu\"))\n",
        "model2.add(Conv2D(filters=64,kernel_size=(3,3),padding=\"same\", activation=\"relu\"))\n",
        "model2.add(MaxPool2D(pool_size=(2,2),strides=(2,2)))\n",
        "model2.add(Conv2D(filters=128, kernel_size=(3,3), padding=\"same\", activation=\"relu\"))\n",
        "model2.add(Conv2D(filters=128, kernel_size=(3,3), padding=\"same\", activation=\"relu\"))\n",
        "model2.add(MaxPool2D(pool_size=(2,2),strides=(2,2)))\n",
        "model2.add(Conv2D(filters=256, kernel_size=(3,3), padding=\"same\", activation=\"relu\"))\n",
        "model2.add(Conv2D(filters=256, kernel_size=(3,3), padding=\"same\", activation=\"relu\"))\n",
        "model2.add(Conv2D(filters=256, kernel_size=(3,3), padding=\"same\", activation=\"relu\"))\n",
        "model2.add(MaxPool2D(pool_size=(2,2),strides=(2,2)))\n",
        "model2.add(Conv2D(filters=512, kernel_size=(3,3), padding=\"same\", activation=\"relu\"))\n",
        "model2.add(Conv2D(filters=512, kernel_size=(3,3), padding=\"same\", activation=\"relu\"))\n",
        "model2.add(Conv2D(filters=512, kernel_size=(3,3), padding=\"same\", activation=\"relu\"))\n",
        "model2.add(MaxPool2D(pool_size=(2,2),strides=(2,2)))\n",
        "model2.add(Conv2D(filters=512, kernel_size=(3,3), padding=\"same\", activation=\"relu\"))\n",
        "model2.add(Conv2D(filters=512, kernel_size=(3,3), padding=\"same\", activation=\"relu\"))\n",
        "model2.add(Conv2D(filters=512, kernel_size=(3,3), padding=\"same\", activation=\"relu\"))\n",
        "model2.add(MaxPool2D(pool_size=(2,2),strides=(2,2)))\n",
        "model2.add(Flatten())\n",
        "model2.add(Dense(units=4096,activation=\"relu\"))\n",
        "model2.add(Dense(units=4096,activation=\"relu\"))\n",
        "model2.add(Dense(units=104, activation=\"softmax\"))\n",
        "model2.summary()\n"
      ]
    },
    {
      "cell_type": "code",
      "execution_count": null,
      "metadata": {
        "id": "xhyXuw8mbPeN"
      },
      "outputs": [],
      "source": [
        "model2.compile(\n",
        "    optimizer=tf.keras.optimizers.Adam(learning_rate=0.01), \n",
        "    loss='sparse_categorical_crossentropy',\n",
        "    metrics=['accuracy'])"
      ]
    },
    {
      "cell_type": "code",
      "source": [
        "checkpoint_filepath = '/content/drive/MyDrive/DL_Data/vgg'\n",
        "model_checkpoint_callback2 = tf.keras.callbacks.ModelCheckpoint(\n",
        "    filepath=checkpoint_filepath,\n",
        "   monitor='val_loss',\n",
        "    verbose=1, \n",
        "    save_best_only=True,\n",
        "    mode='min')"
      ],
      "metadata": {
        "id": "B8_BAiGMn5rh"
      },
      "execution_count": null,
      "outputs": []
    },
    {
      "cell_type": "code",
      "execution_count": null,
      "metadata": {
        "id": "gz__my1Ict_N",
        "colab": {
          "base_uri": "https://localhost:8080/",
          "height": 1000
        },
        "outputId": "7489a8ee-cbbe-451e-c62c-d120dd00c516"
      },
      "outputs": [
        {
          "output_type": "stream",
          "name": "stdout",
          "text": [
            "Epoch 1/20\n",
            "181/181 [==============================] - ETA: 0s - loss: 32752076.0000 - accuracy: 0.0189\n",
            "Epoch 1: val_loss improved from inf to 4.48875, saving model to /content/drive/MyDrive/DL_Data/vgg\n"
          ]
        },
        {
          "output_type": "stream",
          "name": "stderr",
          "text": [
            "WARNING:absl:Found untraced functions such as _jit_compiled_convolution_op, _jit_compiled_convolution_op, _jit_compiled_convolution_op, _jit_compiled_convolution_op, _jit_compiled_convolution_op while saving (showing 5 of 13). These functions will not be directly callable after loading.\n"
          ]
        },
        {
          "output_type": "stream",
          "name": "stdout",
          "text": [
            "\b\b\b\b\b\b\b\b\b\b\b\b\b\b\b\b\b\b\b\b\b\b\b\b\b\b\b\b\b\b\b\b\b\b\b\b\b\b\b\b\b\b\b\b\b\b\b\b\b\b\b\b\b\b\b\b\b\b\b\b\b\b\b\b\b\b\b\b\b\b\b\b\b\b\b\b\b\b\b\b\b\b\b\b\b\b\b\b\b\b\b\r181/181 [==============================] - 182s 897ms/step - loss: 32752076.0000 - accuracy: 0.0189 - val_loss: 4.4887 - val_accuracy: 0.0163\n",
            "Epoch 2/20\n",
            "181/181 [==============================] - ETA: 0s - loss: 4.3672 - accuracy: 0.0495\n",
            "Epoch 2: val_loss improved from 4.48875 to 4.24242, saving model to /content/drive/MyDrive/DL_Data/vgg\n"
          ]
        },
        {
          "output_type": "stream",
          "name": "stderr",
          "text": [
            "WARNING:absl:Found untraced functions such as _jit_compiled_convolution_op, _jit_compiled_convolution_op, _jit_compiled_convolution_op, _jit_compiled_convolution_op, _jit_compiled_convolution_op while saving (showing 5 of 13). These functions will not be directly callable after loading.\n"
          ]
        },
        {
          "output_type": "stream",
          "name": "stdout",
          "text": [
            "\b\b\b\b\b\b\b\b\b\b\b\b\b\b\b\b\b\b\b\b\b\b\b\b\b\b\b\b\b\b\b\b\b\b\b\b\b\b\b\b\b\b\b\b\b\b\b\b\b\b\b\b\b\b\b\b\b\b\b\b\b\b\b\b\b\b\b\b\b\b\b\b\b\b\b\b\b\b\b\b\b\b\b\b\r181/181 [==============================] - 161s 887ms/step - loss: 4.3672 - accuracy: 0.0495 - val_loss: 4.2424 - val_accuracy: 0.0570\n",
            "Epoch 3/20\n",
            "181/181 [==============================] - ETA: 0s - loss: 4.2259 - accuracy: 0.0549\n",
            "Epoch 3: val_loss improved from 4.24242 to 4.15515, saving model to /content/drive/MyDrive/DL_Data/vgg\n"
          ]
        },
        {
          "output_type": "stream",
          "name": "stderr",
          "text": [
            "WARNING:absl:Found untraced functions such as _jit_compiled_convolution_op, _jit_compiled_convolution_op, _jit_compiled_convolution_op, _jit_compiled_convolution_op, _jit_compiled_convolution_op while saving (showing 5 of 13). These functions will not be directly callable after loading.\n"
          ]
        },
        {
          "output_type": "stream",
          "name": "stdout",
          "text": [
            "\b\b\b\b\b\b\b\b\b\b\b\b\b\b\b\b\b\b\b\b\b\b\b\b\b\b\b\b\b\b\b\b\b\b\b\b\b\b\b\b\b\b\b\b\b\b\b\b\b\b\b\b\b\b\b\b\b\b\b\b\b\b\b\b\b\b\b\b\b\b\b\b\b\b\b\b\b\b\b\b\b\b\b\b\r181/181 [==============================] - 162s 896ms/step - loss: 4.2259 - accuracy: 0.0549 - val_loss: 4.1551 - val_accuracy: 0.0570\n",
            "Epoch 4/20\n",
            "181/181 [==============================] - ETA: 0s - loss: 4.1812 - accuracy: 0.0555\n",
            "Epoch 4: val_loss improved from 4.15515 to 4.12910, saving model to /content/drive/MyDrive/DL_Data/vgg\n"
          ]
        },
        {
          "output_type": "stream",
          "name": "stderr",
          "text": [
            "WARNING:absl:Found untraced functions such as _jit_compiled_convolution_op, _jit_compiled_convolution_op, _jit_compiled_convolution_op, _jit_compiled_convolution_op, _jit_compiled_convolution_op while saving (showing 5 of 13). These functions will not be directly callable after loading.\n"
          ]
        },
        {
          "output_type": "stream",
          "name": "stdout",
          "text": [
            "\b\b\b\b\b\b\b\b\b\b\b\b\b\b\b\b\b\b\b\b\b\b\b\b\b\b\b\b\b\b\b\b\b\b\b\b\b\b\b\b\b\b\b\b\b\b\b\b\b\b\b\b\b\b\b\b\b\b\b\b\b\b\b\b\b\b\b\b\b\b\b\b\b\b\b\b\b\b\b\b\b\b\b\b\r181/181 [==============================] - 164s 906ms/step - loss: 4.1812 - accuracy: 0.0555 - val_loss: 4.1291 - val_accuracy: 0.0635\n",
            "Epoch 5/20\n",
            "181/181 [==============================] - ETA: 0s - loss: 4.1693 - accuracy: 0.0611\n",
            "Epoch 5: val_loss improved from 4.12910 to 4.12110, saving model to /content/drive/MyDrive/DL_Data/vgg\n"
          ]
        },
        {
          "output_type": "stream",
          "name": "stderr",
          "text": [
            "WARNING:absl:Found untraced functions such as _jit_compiled_convolution_op, _jit_compiled_convolution_op, _jit_compiled_convolution_op, _jit_compiled_convolution_op, _jit_compiled_convolution_op while saving (showing 5 of 13). These functions will not be directly callable after loading.\n"
          ]
        },
        {
          "output_type": "stream",
          "name": "stdout",
          "text": [
            "\b\b\b\b\b\b\b\b\b\b\b\b\b\b\b\b\b\b\b\b\b\b\b\b\b\b\b\b\b\b\b\b\b\b\b\b\b\b\b\b\b\b\b\b\b\b\b\b\b\b\b\b\b\b\b\b\b\b\b\b\b\b\b\b\b\b\b\b\b\b\b\b\b\b\b\b\b\b\b\b\b\b\b\b\r181/181 [==============================] - 163s 899ms/step - loss: 4.1693 - accuracy: 0.0611 - val_loss: 4.1211 - val_accuracy: 0.0635\n",
            "Epoch 6/20\n",
            "181/181 [==============================] - ETA: 0s - loss: 4.1665 - accuracy: 0.0611\n",
            "Epoch 6: val_loss improved from 4.12110 to 4.11865, saving model to /content/drive/MyDrive/DL_Data/vgg\n"
          ]
        },
        {
          "output_type": "stream",
          "name": "stderr",
          "text": [
            "WARNING:absl:Found untraced functions such as _jit_compiled_convolution_op, _jit_compiled_convolution_op, _jit_compiled_convolution_op, _jit_compiled_convolution_op, _jit_compiled_convolution_op while saving (showing 5 of 13). These functions will not be directly callable after loading.\n"
          ]
        },
        {
          "output_type": "stream",
          "name": "stdout",
          "text": [
            "\b\b\b\b\b\b\b\b\b\b\b\b\b\b\b\b\b\b\b\b\b\b\b\b\b\b\b\b\b\b\b\b\b\b\b\b\b\b\b\b\b\b\b\b\b\b\b\b\b\b\b\b\b\b\b\b\b\b\b\b\b\b\b\b\b\b\b\b\b\b\b\b\b\b\b\b\b\b\b\b\b\b\b\b\r181/181 [==============================] - 162s 896ms/step - loss: 4.1665 - accuracy: 0.0611 - val_loss: 4.1186 - val_accuracy: 0.0635\n",
            "Epoch 7/20\n",
            "181/181 [==============================] - ETA: 0s - loss: 4.1658 - accuracy: 0.0579\n",
            "Epoch 7: val_loss improved from 4.11865 to 4.11748, saving model to /content/drive/MyDrive/DL_Data/vgg\n"
          ]
        },
        {
          "output_type": "stream",
          "name": "stderr",
          "text": [
            "WARNING:absl:Found untraced functions such as _jit_compiled_convolution_op, _jit_compiled_convolution_op, _jit_compiled_convolution_op, _jit_compiled_convolution_op, _jit_compiled_convolution_op while saving (showing 5 of 13). These functions will not be directly callable after loading.\n"
          ]
        },
        {
          "output_type": "stream",
          "name": "stdout",
          "text": [
            "\b\b\b\b\b\b\b\b\b\b\b\b\b\b\b\b\b\b\b\b\b\b\b\b\b\b\b\b\b\b\b\b\b\b\b\b\b\b\b\b\b\b\b\b\b\b\b\b\b\b\b\b\b\b\b\b\b\b\b\b\b\b\b\b\b\b\b\b\b\b\b\b\b\b\b\b\b\b\b\b\b\b\b\b\r181/181 [==============================] - 163s 899ms/step - loss: 4.1658 - accuracy: 0.0579 - val_loss: 4.1175 - val_accuracy: 0.0635\n",
            "Epoch 8/20\n",
            "181/181 [==============================] - ETA: 0s - loss: 4.1656 - accuracy: 0.0611\n",
            "Epoch 8: val_loss improved from 4.11748 to 4.11696, saving model to /content/drive/MyDrive/DL_Data/vgg\n"
          ]
        },
        {
          "output_type": "stream",
          "name": "stderr",
          "text": [
            "WARNING:absl:Found untraced functions such as _jit_compiled_convolution_op, _jit_compiled_convolution_op, _jit_compiled_convolution_op, _jit_compiled_convolution_op, _jit_compiled_convolution_op while saving (showing 5 of 13). These functions will not be directly callable after loading.\n"
          ]
        },
        {
          "output_type": "stream",
          "name": "stdout",
          "text": [
            "\b\b\b\b\b\b\b\b\b\b\b\b\b\b\b\b\b\b\b\b\b\b\b\b\b\b\b\b\b\b\b\b\b\b\b\b\b\b\b\b\b\b\b\b\b\b\b\b\b\b\b\b\b\b\b\b\b\b\b\b\b\b\b\b\b\b\b\b\b\b\b\b\b\b\b\b\b\b\b\b\b\b\b\b\r181/181 [==============================] - 161s 889ms/step - loss: 4.1656 - accuracy: 0.0611 - val_loss: 4.1170 - val_accuracy: 0.0635\n",
            "Epoch 9/20\n",
            "181/181 [==============================] - ETA: 0s - loss: 4.1657 - accuracy: 0.0611\n",
            "Epoch 9: val_loss did not improve from 4.11696\n",
            "181/181 [==============================] - 155s 857ms/step - loss: 4.1657 - accuracy: 0.0611 - val_loss: 4.1170 - val_accuracy: 0.0635\n",
            "Epoch 10/20\n",
            "181/181 [==============================] - ETA: 0s - loss: 4.1658 - accuracy: 0.0600\n",
            "Epoch 10: val_loss did not improve from 4.11696\n",
            "181/181 [==============================] - 152s 840ms/step - loss: 4.1658 - accuracy: 0.0600 - val_loss: 4.1171 - val_accuracy: 0.0635\n",
            "Epoch 11/20\n",
            "181/181 [==============================] - ETA: 0s - loss: 4.1659 - accuracy: 0.0611\n",
            "Epoch 11: val_loss improved from 4.11696 to 4.11675, saving model to /content/drive/MyDrive/DL_Data/vgg\n"
          ]
        },
        {
          "output_type": "stream",
          "name": "stderr",
          "text": [
            "WARNING:absl:Found untraced functions such as _jit_compiled_convolution_op, _jit_compiled_convolution_op, _jit_compiled_convolution_op, _jit_compiled_convolution_op, _jit_compiled_convolution_op while saving (showing 5 of 13). These functions will not be directly callable after loading.\n"
          ]
        },
        {
          "output_type": "stream",
          "name": "stdout",
          "text": [
            "\b\b\b\b\b\b\b\b\b\b\b\b\b\b\b\b\b\b\b\b\b\b\b\b\b\b\b\b\b\b\b\b\b\b\b\b\b\b\b\b\b\b\b\b\b\b\b\b\b\b\b\b\b\b\b\b\b\b\b\b\b\b\b\b\b\b\b\b\b\b\b\b\b\b\b\b\b\b\b\b\b\b\b\b\r181/181 [==============================] - 162s 896ms/step - loss: 4.1659 - accuracy: 0.0611 - val_loss: 4.1168 - val_accuracy: 0.0635\n",
            "Epoch 12/20\n",
            "181/181 [==============================] - ETA: 0s - loss: 4.1659 - accuracy: 0.0593\n",
            "Epoch 12: val_loss did not improve from 4.11675\n",
            "181/181 [==============================] - 153s 844ms/step - loss: 4.1659 - accuracy: 0.0593 - val_loss: 4.1169 - val_accuracy: 0.0635\n",
            "Epoch 13/20\n",
            "181/181 [==============================] - ETA: 0s - loss: 4.1658 - accuracy: 0.0611\n",
            "Epoch 13: val_loss did not improve from 4.11675\n",
            "181/181 [==============================] - 152s 842ms/step - loss: 4.1658 - accuracy: 0.0611 - val_loss: 4.1171 - val_accuracy: 0.0635\n",
            "Epoch 14/20\n",
            "181/181 [==============================] - ETA: 0s - loss: 4.1661 - accuracy: 0.0607\n",
            "Epoch 14: val_loss did not improve from 4.11675\n",
            "181/181 [==============================] - 152s 842ms/step - loss: 4.1661 - accuracy: 0.0607 - val_loss: 4.1171 - val_accuracy: 0.0635\n",
            "Epoch 15/20\n",
            "181/181 [==============================] - ETA: 0s - loss: 4.1661 - accuracy: 0.0603\n",
            "Epoch 15: val_loss did not improve from 4.11675\n",
            "181/181 [==============================] - 152s 842ms/step - loss: 4.1661 - accuracy: 0.0603 - val_loss: 4.1168 - val_accuracy: 0.0635\n",
            "Epoch 16/20\n",
            "181/181 [==============================] - ETA: 0s - loss: 4.1663 - accuracy: 0.0603\n",
            "Epoch 16: val_loss improved from 4.11675 to 4.11668, saving model to /content/drive/MyDrive/DL_Data/vgg\n"
          ]
        },
        {
          "output_type": "stream",
          "name": "stderr",
          "text": [
            "WARNING:absl:Found untraced functions such as _jit_compiled_convolution_op, _jit_compiled_convolution_op, _jit_compiled_convolution_op, _jit_compiled_convolution_op, _jit_compiled_convolution_op while saving (showing 5 of 13). These functions will not be directly callable after loading.\n"
          ]
        },
        {
          "output_type": "stream",
          "name": "stdout",
          "text": [
            "\b\b\b\b\b\b\b\b\b\b\b\b\b\b\b\b\b\b\b\b\b\b\b\b\b\b\b\b\b\b\b\b\b\b\b\b\b\b\b\b\b\b\b\b\b\b\b\b\b\b\b\b\b\b\b\b\b\b\b\b\b\b\b\b\b\b\b\b\b\b\b\b\b\b\b\b\b\b\b\b\b\b\b\b\r181/181 [==============================] - 162s 892ms/step - loss: 4.1663 - accuracy: 0.0603 - val_loss: 4.1167 - val_accuracy: 0.0635\n",
            "Epoch 17/20\n",
            "181/181 [==============================] - ETA: 0s - loss: 4.1664 - accuracy: 0.0611\n",
            "Epoch 17: val_loss improved from 4.11668 to 4.11661, saving model to /content/drive/MyDrive/DL_Data/vgg\n"
          ]
        },
        {
          "output_type": "stream",
          "name": "stderr",
          "text": [
            "WARNING:absl:Found untraced functions such as _jit_compiled_convolution_op, _jit_compiled_convolution_op, _jit_compiled_convolution_op, _jit_compiled_convolution_op, _jit_compiled_convolution_op while saving (showing 5 of 13). These functions will not be directly callable after loading.\n"
          ]
        },
        {
          "output_type": "stream",
          "name": "stdout",
          "text": [
            "\b\b\b\b\b\b\b\b\b\b\b\b\b\b\b\b\b\b\b\b\b\b\b\b\b\b\b\b\b\b\b\b\b\b\b\b\b\b\b\b\b\b\b\b\b\b\b\b\b\b\b\b\b\b\b\b\b\b\b\b\b\b\b\b\b\b\b\b\b\b\b\b\b\b\b\b\b\b\b\b\b\b\b\b\r181/181 [==============================] - 163s 897ms/step - loss: 4.1664 - accuracy: 0.0611 - val_loss: 4.1166 - val_accuracy: 0.0635\n",
            "Epoch 18/20\n",
            "181/181 [==============================] - ETA: 0s - loss: 4.1660 - accuracy: 0.0599\n",
            "Epoch 18: val_loss did not improve from 4.11661\n",
            "181/181 [==============================] - 152s 836ms/step - loss: 4.1660 - accuracy: 0.0599 - val_loss: 4.1168 - val_accuracy: 0.0635\n",
            "Epoch 19/20\n",
            "181/181 [==============================] - ETA: 0s - loss: 4.1662 - accuracy: 0.0597\n",
            "Epoch 19: val_loss did not improve from 4.11661\n",
            "181/181 [==============================] - 153s 843ms/step - loss: 4.1662 - accuracy: 0.0597 - val_loss: 4.1170 - val_accuracy: 0.0635\n",
            "Epoch 20/20\n",
            "181/181 [==============================] - ETA: 0s - loss: 4.1661 - accuracy: 0.0600\n",
            "Epoch 20: val_loss did not improve from 4.11661\n",
            "181/181 [==============================] - 153s 842ms/step - loss: 4.1661 - accuracy: 0.0600 - val_loss: 4.1171 - val_accuracy: 0.0635\n"
          ]
        },
        {
          "output_type": "error",
          "ename": "TypeError",
          "evalue": "ignored",
          "traceback": [
            "\u001b[0;31m---------------------------------------------------------------------------\u001b[0m",
            "\u001b[0;31mTypeError\u001b[0m                                 Traceback (most recent call last)",
            "\u001b[0;32m<ipython-input-15-0d9d02fa282e>\u001b[0m in \u001b[0;36m<module>\u001b[0;34m\u001b[0m\n\u001b[1;32m      6\u001b[0m     \u001b[0mcallbacks\u001b[0m\u001b[0;34m=\u001b[0m\u001b[0;34m[\u001b[0m\u001b[0mmodel_checkpoint_callback2\u001b[0m\u001b[0;34m]\u001b[0m\u001b[0;34m\u001b[0m\u001b[0;34m\u001b[0m\u001b[0m\n\u001b[1;32m      7\u001b[0m )\n\u001b[0;32m----> 8\u001b[0;31m \u001b[0mmodel2\u001b[0m\u001b[0;34m.\u001b[0m\u001b[0msave\u001b[0m\u001b[0;34m(\u001b[0m\u001b[0mname\u001b[0m\u001b[0;34m=\u001b[0m\u001b[0;34m\"model2\"\u001b[0m\u001b[0;34m)\u001b[0m\u001b[0;34m\u001b[0m\u001b[0;34m\u001b[0m\u001b[0m\n\u001b[0m",
            "\u001b[0;32m/usr/local/lib/python3.7/dist-packages/keras/utils/traceback_utils.py\u001b[0m in \u001b[0;36merror_handler\u001b[0;34m(*args, **kwargs)\u001b[0m\n\u001b[1;32m     65\u001b[0m     \u001b[0;32mexcept\u001b[0m \u001b[0mException\u001b[0m \u001b[0;32mas\u001b[0m \u001b[0me\u001b[0m\u001b[0;34m:\u001b[0m  \u001b[0;31m# pylint: disable=broad-except\u001b[0m\u001b[0;34m\u001b[0m\u001b[0;34m\u001b[0m\u001b[0m\n\u001b[1;32m     66\u001b[0m       \u001b[0mfiltered_tb\u001b[0m \u001b[0;34m=\u001b[0m \u001b[0m_process_traceback_frames\u001b[0m\u001b[0;34m(\u001b[0m\u001b[0me\u001b[0m\u001b[0;34m.\u001b[0m\u001b[0m__traceback__\u001b[0m\u001b[0;34m)\u001b[0m\u001b[0;34m\u001b[0m\u001b[0;34m\u001b[0m\u001b[0m\n\u001b[0;32m---> 67\u001b[0;31m       \u001b[0;32mraise\u001b[0m \u001b[0me\u001b[0m\u001b[0;34m.\u001b[0m\u001b[0mwith_traceback\u001b[0m\u001b[0;34m(\u001b[0m\u001b[0mfiltered_tb\u001b[0m\u001b[0;34m)\u001b[0m \u001b[0;32mfrom\u001b[0m \u001b[0;32mNone\u001b[0m\u001b[0;34m\u001b[0m\u001b[0;34m\u001b[0m\u001b[0m\n\u001b[0m\u001b[1;32m     68\u001b[0m     \u001b[0;32mfinally\u001b[0m\u001b[0;34m:\u001b[0m\u001b[0;34m\u001b[0m\u001b[0;34m\u001b[0m\u001b[0m\n\u001b[1;32m     69\u001b[0m       \u001b[0;32mdel\u001b[0m \u001b[0mfiltered_tb\u001b[0m\u001b[0;34m\u001b[0m\u001b[0;34m\u001b[0m\u001b[0m\n",
            "\u001b[0;32m/usr/local/lib/python3.7/dist-packages/keras/utils/traceback_utils.py\u001b[0m in \u001b[0;36merror_handler\u001b[0;34m(*args, **kwargs)\u001b[0m\n\u001b[1;32m     62\u001b[0m     \u001b[0mfiltered_tb\u001b[0m \u001b[0;34m=\u001b[0m \u001b[0;32mNone\u001b[0m\u001b[0;34m\u001b[0m\u001b[0;34m\u001b[0m\u001b[0m\n\u001b[1;32m     63\u001b[0m     \u001b[0;32mtry\u001b[0m\u001b[0;34m:\u001b[0m\u001b[0;34m\u001b[0m\u001b[0;34m\u001b[0m\u001b[0m\n\u001b[0;32m---> 64\u001b[0;31m       \u001b[0;32mreturn\u001b[0m \u001b[0mfn\u001b[0m\u001b[0;34m(\u001b[0m\u001b[0;34m*\u001b[0m\u001b[0margs\u001b[0m\u001b[0;34m,\u001b[0m \u001b[0;34m**\u001b[0m\u001b[0mkwargs\u001b[0m\u001b[0;34m)\u001b[0m\u001b[0;34m\u001b[0m\u001b[0;34m\u001b[0m\u001b[0m\n\u001b[0m\u001b[1;32m     65\u001b[0m     \u001b[0;32mexcept\u001b[0m \u001b[0mException\u001b[0m \u001b[0;32mas\u001b[0m \u001b[0me\u001b[0m\u001b[0;34m:\u001b[0m  \u001b[0;31m# pylint: disable=broad-except\u001b[0m\u001b[0;34m\u001b[0m\u001b[0;34m\u001b[0m\u001b[0m\n\u001b[1;32m     66\u001b[0m       \u001b[0mfiltered_tb\u001b[0m \u001b[0;34m=\u001b[0m \u001b[0m_process_traceback_frames\u001b[0m\u001b[0;34m(\u001b[0m\u001b[0me\u001b[0m\u001b[0;34m.\u001b[0m\u001b[0m__traceback__\u001b[0m\u001b[0;34m)\u001b[0m\u001b[0;34m\u001b[0m\u001b[0;34m\u001b[0m\u001b[0m\n",
            "\u001b[0;31mTypeError\u001b[0m: save() got an unexpected keyword argument 'name'"
          ]
        }
      ],
      "source": [
        "history2 = model2.fit(\n",
        "    train_set,\n",
        "    verbose = 1,\n",
        "    epochs = 20,\n",
        "    validation_data = valid_set,\n",
        "    callbacks=[model_checkpoint_callback2]\n",
        ")\n",
        "model2.save(\"model2\")"
      ]
    },
    {
      "cell_type": "code",
      "source": [
        "model2.save(\"model2\")"
      ],
      "metadata": {
        "colab": {
          "base_uri": "https://localhost:8080/"
        },
        "id": "GpLfpB06ns2y",
        "outputId": "9e7390a4-ee3a-47a9-cadd-09d883aec81a"
      },
      "execution_count": null,
      "outputs": [
        {
          "output_type": "stream",
          "name": "stderr",
          "text": [
            "WARNING:absl:Found untraced functions such as _jit_compiled_convolution_op, _jit_compiled_convolution_op, _jit_compiled_convolution_op, _jit_compiled_convolution_op, _jit_compiled_convolution_op while saving (showing 5 of 13). These functions will not be directly callable after loading.\n"
          ]
        }
      ]
    },
    {
      "cell_type": "code",
      "execution_count": null,
      "metadata": {
        "id": "kJuyWbLRdzYt",
        "colab": {
          "base_uri": "https://localhost:8080/",
          "height": 281
        },
        "outputId": "c3affcb6-4f39-4e39-eb74-d487a1b17e5f"
      },
      "outputs": [
        {
          "output_type": "display_data",
          "data": {
            "text/plain": [
              "<Figure size 432x288 with 1 Axes>"
            ],
            "image/png": "[encoded data removed]"
          },
          "metadata": {
            "needs_background": "light"
          }
        }
      ],
      "source": [
        "acc2 = history2.history['accuracy']\n",
        "val_acc2 = history2.history['val_accuracy']\n",
        "\n",
        "epochs = range(1, len(acc2) + 1)\n",
        "\n",
        "#Plot the training Accuracy vs Validation Accuracy\n",
        "plt.plot(epochs, acc2, 'b', label='Training accurarcy')\n",
        "plt.plot(epochs, val_acc2, 'r', label='Validation accurarcy')\n",
        "plt.title('Training and Validation Accurarcy')\n",
        "plt.legend()\n",
        "\n",
        "plt.show()"
      ]
    },
    {
      "cell_type": "code",
      "source": [
        "y_probs2 = model2.predict(test_set)\n",
        "y_preds2 = y_probs2.argmax(axis=1)"
      ],
      "metadata": {
        "colab": {
          "base_uri": "https://localhost:8080/"
        },
        "id": "VJFxcmaBg0r4",
        "outputId": "eb0ec073-c5df-4dcd-96cc-3c694cd31c0e"
      },
      "execution_count": null,
      "outputs": [
        {
          "output_type": "stream",
          "name": "stdout",
          "text": [
            "200/200 [==============================] - 60s 297ms/step\n"
          ]
        }
      ]
    },
    {
      "cell_type": "code",
      "execution_count": null,
      "metadata": {
        "id": "42QA8AQ7GNhY"
      },
      "outputs": [],
      "source": [
        "from sklearn.metrics import f1_score, confusion_matrix, ConfusionMatrixDisplay"
      ]
    },
    {
      "cell_type": "code",
      "execution_count": null,
      "metadata": {
        "id": "kZofUKI_GbU_",
        "colab": {
          "base_uri": "https://localhost:8080/"
        },
        "outputId": "eb51015b-8909-4691-cef4-d53e6c9b5900"
      },
      "outputs": [
        {
          "output_type": "stream",
          "name": "stdout",
          "text": [
            "0.0011110795373817169 \n",
            " [[0 0 0 ... 0 0 0]\n",
            " [0 0 0 ... 0 0 0]\n",
            " [0 0 0 ... 0 0 0]\n",
            " ...\n",
            " [0 0 0 ... 0 0 0]\n",
            " [0 0 0 ... 0 0 0]\n",
            " [0 0 0 ... 0 0 0]]\n"
          ]
        }
      ],
      "source": [
        "f1 = f1_score(test_set.labels, y_preds2, average='macro')\n",
        "cm = confusion_matrix(test_set.labels, y_preds2)\n",
        "print(f1, \"\\n\", cm)"
      ]
    },
    {
      "cell_type": "code",
      "execution_count": null,
      "metadata": {
        "id": "9bRN4QO2Gc1h"
      },
      "outputs": [],
      "source": [
        "cm=confusion_matrix(y_preds2,test_set.labels)\n",
        "disp=ConfusionMatrixDisplay(confusion_matrix=cm,display_labels=classes)\n",
        "fig, ax = plt.subplots(figsize=(104,104))\n",
        "disp.plot(ax=ax, xticks_rotation='vertical')\n",
        "plt.show()"
      ]
    },
    {
      "cell_type": "code",
      "source": [
        "_, acc = model2.evaluate(test_set, steps=len(test_set), verbose=0)\n",
        "print('%.3f' % (acc * 100.0))"
      ],
      "metadata": {
        "colab": {
          "base_uri": "https://localhost:8080/"
        },
        "id": "iF5wFu5Zgg4k",
        "outputId": "9bc38ea9-61ed-4021-bf81-ce39afc6c50e"
      },
      "execution_count": null,
      "outputs": [
        {
          "output_type": "stream",
          "name": "stdout",
          "text": [
            "6.132\n"
          ]
        }
      ]
    },
    {
      "cell_type": "markdown",
      "metadata": {
        "id": "omp_aCFmZpMs"
      },
      "source": [
        "## GoogleNet/Inception"
      ]
    },
    {
      "cell_type": "code",
      "execution_count": null,
      "metadata": {
        "id": "m7tUoykcSr0i"
      },
      "outputs": [],
      "source": [
        "def Inception_block(input_layer, f1, f2_conv1, f2_conv3, f3_conv1, f3_conv5, f4): \n",
        "  # Input: \n",
        "  # - f1: number of filters of the 1x1 convolutional layer in the first path\n",
        "  # - f2_conv1, f2_conv3 are number of filters corresponding to the 1x1 and 3x3 convolutional layers in the second path\n",
        "  # - f3_conv1, f3_conv5 are the number of filters corresponding to the 1x1 and 5x5  convolutional layer in the third path\n",
        "  # - f4: number of filters of the 1x1 convolutional layer in the fourth path\n",
        "\n",
        "  # 1st path:\n",
        "  path1 = Conv2D(filters=f1, kernel_size = (1,1), padding = 'same', activation = 'relu')(input_layer)\n",
        "\n",
        "  # 2nd path\n",
        "  path2 = Conv2D(filters = f2_conv1, kernel_size = (1,1), padding = 'same', activation = 'relu')(input_layer)\n",
        "  path2 = Conv2D(filters = f2_conv3, kernel_size = (3,3), padding = 'same', activation = 'relu', trainable = False)(path2)\n",
        "\n",
        "  # 3rd path\n",
        "  path3 = Conv2D(filters = f3_conv1, kernel_size = (1,1), padding = 'same', activation = 'relu')(input_layer)\n",
        "  path3 = Conv2D(filters = f3_conv5, kernel_size = (5,5), padding = 'same', activation = 'relu', trainable = False)(path3)\n",
        "\n",
        "  # 4th path\n",
        "  path4 = MaxPooling2D((3,3), strides= (1,1), padding = 'same')(input_layer)\n",
        "  path4 = Conv2D(filters = f4, kernel_size = (1,1), padding = 'same', activation = 'relu')(path4)\n",
        "\n",
        "  output_layer = concatenate([path1, path2, path3, path4], axis = -1)\n",
        "\n",
        "  return output_layer"
      ]
    },
    {
      "cell_type": "code",
      "execution_count": null,
      "metadata": {
        "id": "56TCFSQ1Sz_j"
      },
      "outputs": [],
      "source": [
        "def GoogLeNet():\n",
        "  # input layer \n",
        "  input_layer = Input(shape = train_set.image_shape)\n",
        "\n",
        "  # convolutional layer: filters = 64, kernel_size = (7,7), strides = 2\n",
        "  X = Conv2D(filters = 64, kernel_size = (7,7), strides = 2, padding = 'valid', activation = 'relu')(input_layer)\n",
        "\n",
        "  # max-pooling layer: pool_size = (3,3), strides = 2\n",
        "  X = MaxPooling2D(pool_size = (3,3), strides = 2)(X)\n",
        "\n",
        "  # convolutional layer: filters = 64, strides = 1\n",
        "  X = Conv2D(filters = 64, kernel_size = (1,1), strides = 1, padding = 'same', activation = 'relu')(X)\n",
        "\n",
        "  # convolutional layer: filters = 192, kernel_size = (3,3)\n",
        "  X = Conv2D(filters = 192, kernel_size = (3,3), padding = 'same', activation = 'relu')(X)\n",
        "\n",
        "  # max-pooling layer: pool_size = (3,3), strides = 2\n",
        "  X = MaxPooling2D(pool_size= (3,3), strides = 2)(X)\n",
        "\n",
        "  # 1st Inception block\n",
        "  X = Inception_block(X, f1 = 64, f2_conv1 = 96, f2_conv3 = 128, f3_conv1 = 16, f3_conv5 = 32, f4 = 32)\n",
        "\n",
        "  # 2nd Inception block\n",
        "  X = Inception_block(X, f1 = 128, f2_conv1 = 128, f2_conv3 = 192, f3_conv1 = 32, f3_conv5 = 96, f4 = 64)\n",
        "\n",
        "  # max-pooling layer: pool_size = (3,3), strides = 2\n",
        "  X = MaxPooling2D(pool_size= (3,3), strides = 2)(X)\n",
        "\n",
        "  # 3rd Inception block\n",
        "  X = Inception_block(X, f1 = 192, f2_conv1 = 96, f2_conv3 = 208, f3_conv1 = 16, f3_conv5 = 48, f4 = 64)\n",
        "\n",
        "  # Extra network 1:\n",
        "  X1 = AveragePooling2D(pool_size = (5,5), strides = 3)(X)\n",
        "  X1 = Conv2D(filters = 128, kernel_size = (1,1), padding = 'same', activation = 'relu')(X1)\n",
        "  X1 = Flatten()(X1)\n",
        "  X1 = Dense(1024, activation = 'relu')(X1)\n",
        "  X1 = Dropout(0.7)(X1)\n",
        "  X1 = Dense(104, activation = 'softmax')(X1)\n",
        "\n",
        "  \n",
        "  # 4th Inception block\n",
        "  X = Inception_block(X, f1 = 160, f2_conv1 = 112, f2_conv3 = 224, f3_conv1 = 24, f3_conv5 = 64, f4 = 64)\n",
        "\n",
        "  # 5th Inception block\n",
        "  X = Inception_block(X, f1 = 128, f2_conv1 = 128, f2_conv3 = 256, f3_conv1 = 24, f3_conv5 = 64, f4 = 64)\n",
        "\n",
        "  # 6th Inception block\n",
        "  X = Inception_block(X, f1 = 112, f2_conv1 = 144, f2_conv3 = 288, f3_conv1 = 32, f3_conv5 = 64, f4 = 64)\n",
        "\n",
        "  # Extra network 2:\n",
        "  X2 = AveragePooling2D(pool_size = (5,5), strides = 3)(X)\n",
        "  X2 = Conv2D(filters = 128, kernel_size = (1,1), padding = 'same', activation = 'relu')(X2)\n",
        "  X2 = Flatten()(X2)\n",
        "  X2 = Dense(1024, activation = 'relu')(X2)\n",
        "  X2 = Dropout(0.7)(X2)\n",
        "  X2 = Dense(104, activation = 'softmax')(X2)\n",
        "  \n",
        "  \n",
        "  # 7th Inception block\n",
        "  X = Inception_block(X, f1 = 256, f2_conv1 = 160, f2_conv3 = 320, f3_conv1 = 32, \n",
        "                      f3_conv5 = 128, f4 = 128)\n",
        "\n",
        "  # max-pooling layer: pool_size = (3,3), strides = 2\n",
        "  X = MaxPooling2D(pool_size = (3,3), strides = 2)(X)\n",
        "\n",
        "  # 8th Inception block\n",
        "  X = Inception_block(X, f1 = 256, f2_conv1 = 160, f2_conv3 = 320, f3_conv1 = 32, f3_conv5 = 128, f4 = 128)\n",
        "\n",
        "  # 9th Inception block\n",
        "  X = Inception_block(X, f1 = 384, f2_conv1 = 192, f2_conv3 = 384, f3_conv1 = 48, f3_conv5 = 128, f4 = 128)\n",
        "\n",
        "  # Global Average pooling layer \n",
        "  X = GlobalAveragePooling2D(name = 'GAPL')(X)\n",
        "\n",
        "  # Dropoutlayer \n",
        "  X = Dropout(0.4)(X)\n",
        "\n",
        "  # output layer \n",
        "  X = Dense(104, activation = 'softmax')(X)\n",
        "  \n",
        "  # model\n",
        "  model = Model(input_layer, [X, X1, X2], name = 'GoogLeNet')\n",
        "\n",
        "  return model"
      ]
    },
    {
      "cell_type": "code",
      "execution_count": null,
      "metadata": {
        "id": "bFk19BqLzLdE",
        "colab": {
          "base_uri": "https://localhost:8080/"
        },
        "outputId": "17478691-f7ec-4bd6-8bf3-35c106c62bfb"
      },
      "outputs": [
        {
          "output_type": "execute_result",
          "data": {
            "text/plain": [
              "<tensorflow.python.training.tracking.util.CheckpointLoadStatus at 0x7f7060085790>"
            ]
          },
          "metadata": {},
          "execution_count": 16
        }
      ],
      "source": [
        "#model3 = Sequential()\n",
        "model3 = GoogLeNet()\n",
        "model3.load_weights(\"/content/drive/MyDrive/DL_Data/google\")"
      ]
    },
    {
      "cell_type": "code",
      "execution_count": null,
      "metadata": {
        "id": "fLpXp1nkzPyI"
      },
      "outputs": [],
      "source": [
        "model3.summary()"
      ]
    },
    {
      "cell_type": "code",
      "execution_count": null,
      "metadata": {
        "id": "Ouymrj7gCppT"
      },
      "outputs": [],
      "source": [
        "model3.compile(\n",
        "     optimizer=tf.keras.optimizers.Adam(learning_rate=0.0001), \n",
        "    loss='categorical_crossentropy',\n",
        "    metrics=['accuracy'])"
      ]
    },
    {
      "cell_type": "code",
      "execution_count": null,
      "metadata": {
        "id": "3-zrUrwFCvfc"
      },
      "outputs": [],
      "source": [
        "history3 = model3.fit(\n",
        "    train_set,\n",
        "    verbose = 1,\n",
        "    epochs = 20,\n",
        "    validation_data = valid_set\n",
        ")\n",
        "model3.save(\"model3\")"
      ]
    },
    {
      "cell_type": "code",
      "execution_count": null,
      "metadata": {
        "id": "SgG5SLoFu-Yz",
        "colab": {
          "base_uri": "https://localhost:8080/"
        },
        "outputId": "1828b5a1-734a-4de2-c311-76c06db5e4f1"
      },
      "outputs": [
        {
          "output_type": "stream",
          "name": "stdout",
          "text": [
            " 46/200 [=====>........................] - ETA: 27s"
          ]
        }
      ],
      "source": [
        "y_probs3 = model3.predict(test_set)"
      ]
    },
    {
      "cell_type": "code",
      "execution_count": null,
      "metadata": {
        "id": "oiiEiQ_avIbr"
      },
      "outputs": [],
      "source": [
        "y_probs3=np.array(y_probs3)"
      ]
    },
    {
      "cell_type": "code",
      "execution_count": null,
      "metadata": {
        "id": "_ealGTgxyPqr"
      },
      "outputs": [],
      "source": [
        "y_preds3 = y_probs3.argmax(axis=1)"
      ]
    },
    {
      "cell_type": "code",
      "execution_count": null,
      "metadata": {
        "id": "PEs_fRrkzp36"
      },
      "outputs": [],
      "source": [
        "y_probs3 = y_probs3.reshape(3*3712,104)"
      ]
    },
    {
      "cell_type": "code",
      "execution_count": null,
      "metadata": {
        "id": "XQ3VpcYv0OOS"
      },
      "outputs": [],
      "source": [
        "y_probs3.shape"
      ]
    },
    {
      "cell_type": "code",
      "execution_count": null,
      "metadata": {
        "id": "zin-4zkVwGJL"
      },
      "outputs": [],
      "source": [
        "f1 = f1_score(test_set.labels, y_probs3, average='macro')\n",
        "cm = confusion_matrix(test_set.labels, y_probs3)\n",
        "print(f1, \"\\n\", cm)"
      ]
    },
    {
      "cell_type": "code",
      "execution_count": null,
      "metadata": {
        "id": "PUBdeDSQwLuL"
      },
      "outputs": [],
      "source": [
        "cm3=confusion_matrix(y_preds3,test_set.labels)\n",
        "disp=ConfusionMatrixDisplay(confusion_matrix=cm3,display_labels=classes)\n",
        "fig, ax = plt.subplots(figsize=(104,104))\n",
        "disp.plot(ax=ax, xticks_rotation='vertical')\n",
        "plt.show()"
      ]
    },
    {
      "cell_type": "code",
      "execution_count": null,
      "metadata": {
        "id": "yReOkpBtwZiy"
      },
      "outputs": [],
      "source": [
        "acc3 = history3.history['accuracy']\n",
        "val_acc3 = history3.history['val_accuracy']\n",
        "\n",
        "epochs = range(1, len(acc) + 1)\n",
        "\n",
        "#Plot the training Accuracy vs Validation Accuracy\n",
        "plt.plot(epochs, acc3, 'b', label='Training accurarcy')\n",
        "plt.plot(epochs, val_acc3, 'r', label='Validation accurarcy')\n",
        "plt.title('Training and Validation Accurarcy')\n",
        "plt.legend()\n",
        "\n",
        "plt.show()"
      ]
    },
    {
      "cell_type": "markdown",
      "metadata": {
        "id": "M7B4MfeiGHSd"
      },
      "source": [
        "##ENSEMBLE"
      ]
    },
    {
      "cell_type": "code",
      "execution_count": null,
      "metadata": {
        "id": "N8911fPL99k7"
      },
      "outputs": [],
      "source": [
        "input_layer = Input(shape = train_set.image_shape)\n",
        "\n",
        "  # convolutional layer: filters = 64, kernel_size = (7,7), strides = 2\n",
        "X = Conv2D(filters = 64, kernel_size = (7,7), strides = 2, padding = 'valid', activation = 'relu')(input_layer)\n",
        "\n",
        "  # max-pooling layer: pool_size = (3,3), strides = 2\n",
        "X = MaxPooling2D(pool_size = (3,3), strides = 2)(X)\n",
        "\n",
        "  # convolutional layer: filters = 64, strides = 1\n",
        "X = Conv2D(filters = 64, kernel_size = (1,1), strides = 1, padding = 'same', activation = 'relu', trainable = False)(X)\n",
        "  # max-pooling layer: pool_size = (3,3), strides = 2\n",
        "X = MaxPooling2D(pool_size= (3,3), strides = 2)(X)\n",
        "\n",
        "  # 1st Inception block\n",
        "\n",
        "X = Conv2D(filters=32, kernel_size=(3,3), padding='same', strides=(2,2), trainable = False)(X)\n",
        "X = AveragePooling2D(pool_size=(2,2), padding='same')(X)\n",
        "X = Inception_block(X, f1 = 32, f2_conv1 = 48, f2_conv3 = 64, f3_conv1 = 4, f3_conv5 = 16, f4 = 16)\n",
        "X = GlobalAveragePooling2D(name = 'GAPL')(X)\n",
        "X = (Dense(4096, activation = 'relu', trainable = False)) (X)\n",
        "X = (Dense(104, activation = 'softmax')) (X)\n",
        "X = Dropout(0.5)(X)\n",
        "model4 = Model(input_layer, [X])\n",
        "model4.summary()"
      ]
    },
    {
      "cell_type": "code",
      "execution_count": null,
      "metadata": {
        "id": "Gz2wR_UABd6V"
      },
      "outputs": [],
      "source": [
        "model4.compile(\n",
        "     optimizer=tf.keras.optimizers.Adam(learning_rate=0.01), \n",
        "    loss='categorical_crossentropy',\n",
        "    metrics=['accuracy'])"
      ]
    },
    {
      "cell_type": "code",
      "execution_count": null,
      "metadata": {
        "id": "0Jsd3qdiCUfk"
      },
      "outputs": [],
      "source": [
        "history4 = model4.fit(\n",
        "    train_set,\n",
        "    verbose = 1,\n",
        "    epochs = 20,\n",
        "    validation_data = valid_set\n",
        ")\n",
        "model4.save(name=\"model4\")"
      ]
    },
    {
      "cell_type": "code",
      "execution_count": null,
      "metadata": {
        "id": "ec8ANcao5Vkx"
      },
      "outputs": [],
      "source": [
        "y_probs4 = model4.predict(test_set)\n",
        "y_preds4 = y_probs4.argmax(axis=1)"
      ]
    },
    {
      "cell_type": "code",
      "execution_count": null,
      "metadata": {
        "id": "yAJ3esLA5W4B"
      },
      "outputs": [],
      "source": [
        "f1 = f1_score(test_set.labels, y_preds4, average='macro')\n",
        "cm4 = confusion_matrix(test_set.labels, y_preds4)\n",
        "print(f1, \"\\n\", cm4)"
      ]
    },
    {
      "cell_type": "code",
      "execution_count": null,
      "metadata": {
        "id": "qc3d9BEh5XDh"
      },
      "outputs": [],
      "source": [
        "cm4=confusion_matrix(y_preds4,test_set.labels)\n",
        "disp=ConfusionMatrixDisplay(confusion_matrix=cm4,display_labels=classes)\n",
        "fig, ax = plt.subplots(figsize=(104,104))\n",
        "disp.plot(ax=ax, xticks_rotation='vertical')\n",
        "plt.show()"
      ]
    },
    {
      "cell_type": "code",
      "execution_count": null,
      "metadata": {
        "id": "EqjWBakt5lWy"
      },
      "outputs": [],
      "source": [
        "acc = history4.history['accuracy']\n",
        "val_acc = history4.history['val_accuracy']\n",
        "\n",
        "epochs = range(1, len(acc) + 1)\n",
        "\n",
        "#Plot the training Accuracy vs Validation Accuracy\n",
        "plt.plot(epochs, acc, 'b', label='Training accurarcy')\n",
        "plt.plot(epochs, val_acc, 'r', label='Validation accurarcy')\n",
        "plt.title('Training and Validation Accurarcy')\n",
        "plt.legend()\n",
        "\n",
        "plt.show()"
      ]
    },
    {
      "cell_type": "markdown",
      "metadata": {
        "id": "f4Iz-qAcZqpy"
      },
      "source": [
        "##Pretrained"
      ]
    },
    {
      "cell_type": "code",
      "execution_count": null,
      "metadata": {
        "id": "k6juClNZZwSi"
      },
      "outputs": [],
      "source": [
        "from keras.applications.vgg16 import VGG16"
      ]
    },
    {
      "cell_type": "code",
      "execution_count": null,
      "metadata": {
        "id": "ceqst3ZkeYcB",
        "colab": {
          "base_uri": "https://localhost:8080/"
        },
        "outputId": "529241b1-2c7a-4920-b4b2-18953e89a861"
      },
      "outputs": [
        {
          "output_type": "stream",
          "name": "stdout",
          "text": [
            "Model: \"sequential_1\"\n",
            "_________________________________________________________________\n",
            " Layer (type)                Output Shape              Param #   \n",
            "=================================================================\n",
            " vgg16 (Functional)          (None, 1000)              138357544 \n",
            "                                                                 \n",
            " dense_1 (Dense)             (None, 104)               104104    \n",
            "                                                                 \n",
            "=================================================================\n",
            "Total params: 138,461,648\n",
            "Trainable params: 138,461,648\n",
            "Non-trainable params: 0\n",
            "_________________________________________________________________\n"
          ]
        }
      ],
      "source": [
        "modelP = keras.models.Sequential()\n",
        "modelP.add(VGG16 (weights='imagenet',pooling='avg'))\n",
        "\n",
        "modelP.add(Dense(units=104, activation=\"softmax\"))\n",
        "modelP.summary ()"
      ]
    },
    {
      "cell_type": "code",
      "execution_count": null,
      "metadata": {
        "id": "8yoBZw_dEPZV"
      },
      "outputs": [],
      "source": [
        "modelP.compile(\n",
        "     optimizer=tf.keras.optimizers.Adam(learning_rate=0.005), \n",
        "    loss='sparse_categorical_crossentropy',\n",
        "    metrics=['accuracy'])"
      ]
    },
    {
      "cell_type": "code",
      "execution_count": null,
      "metadata": {
        "id": "KIQ4nFYREQEE"
      },
      "outputs": [],
      "source": [
        "historyP = modelP.fit(\n",
        "    train_set,\n",
        "    verbose = 1,\n",
        "    epochs = 20,\n",
        "    validation_data = valid_set\n",
        "\n",
        ")\n"
      ]
    },
    {
      "cell_type": "code",
      "execution_count": null,
      "metadata": {
        "id": "Y5jSZu8kHCD3",
        "colab": {
          "base_uri": "https://localhost:8080/"
        },
        "outputId": "7b62aa28-32ee-45c3-e52d-5fa37f6ee91f"
      },
      "outputs": [
        {
          "output_type": "stream",
          "name": "stderr",
          "text": [
            "WARNING:absl:Found untraced functions such as _jit_compiled_convolution_op, _jit_compiled_convolution_op, _jit_compiled_convolution_op, _jit_compiled_convolution_op, _jit_compiled_convolution_op while saving (showing 5 of 13). These functions will not be directly callable after loading.\n"
          ]
        }
      ],
      "source": [
        "modelP.save(\"modelP\")"
      ]
    },
    {
      "cell_type": "code",
      "source": [
        "accP = historyP.history['accuracy']\n",
        "val_accP = historyP.history['val_accuracy']\n",
        "\n",
        "epochs = range(1, len(accP) + 1)\n",
        "\n",
        "#Plot the training Accuracy vs Validation Accuracy\n",
        "plt.plot(epochs, accP, 'b', label='Training accurarcy')\n",
        "plt.plot(epochs, val_accP, 'r', label='Validation accurarcy')\n",
        "plt.title('Training and Validation Accurarcy')\n",
        "plt.legend()\n",
        "\n",
        "plt.show()"
      ],
      "metadata": {
        "colab": {
          "base_uri": "https://localhost:8080/",
          "height": 281
        },
        "id": "V_gol89E-qKJ",
        "outputId": "e309e705-335e-462c-c1e8-b96fc008b83a"
      },
      "execution_count": null,
      "outputs": [
        {
          "output_type": "display_data",
          "data": {
            "text/plain": [
              "<Figure size 432x288 with 1 Axes>"
            ],
            "image/png": "[encoded data removed]"
          },
          "metadata": {
            "needs_background": "light"
          }
        }
      ]
    },
    {
      "cell_type": "code",
      "source": [
        "y_probsP = modelP.predict(test_set)\n",
        "y_predsP = y_probsP.argmax(axis=1)"
      ],
      "metadata": {
        "colab": {
          "base_uri": "https://localhost:8080/"
        },
        "id": "aZCu-TI--wcx",
        "outputId": "216de00b-bc7f-48f3-86f3-517a63a2581b"
      },
      "execution_count": null,
      "outputs": [
        {
          "output_type": "stream",
          "name": "stdout",
          "text": [
            "200/200 [==============================] - 67s 337ms/step\n"
          ]
        }
      ]
    },
    {
      "cell_type": "code",
      "source": [
        "f1 = f1_score(test_set.labels, y_predsP, average='macro')\n",
        "cm = confusion_matrix(test_set.labels, y_predsP)\n",
        "print(f1, \"\\n\", cm)"
      ],
      "metadata": {
        "colab": {
          "base_uri": "https://localhost:8080/"
        },
        "id": "Yg1ti0Ut-0rh",
        "outputId": "c7f6a047-313e-4ba7-c03d-f69a1d7a0d0c"
      },
      "execution_count": null,
      "outputs": [
        {
          "output_type": "stream",
          "name": "stdout",
          "text": [
            "0.0011110795373817169 \n",
            " [[0 0 0 ... 0 0 0]\n",
            " [0 0 0 ... 0 0 0]\n",
            " [0 0 0 ... 0 0 0]\n",
            " ...\n",
            " [0 0 0 ... 0 0 0]\n",
            " [0 0 0 ... 0 0 0]\n",
            " [0 0 0 ... 0 0 0]]\n"
          ]
        }
      ]
    },
    {
      "cell_type": "code",
      "source": [
        "cm=confusion_matrix(y_predsP,test_set.labels)\n",
        "disp=ConfusionMatrixDisplay(confusion_matrix=cm,display_labels=classes)\n",
        "fig, ax = plt.subplots(figsize=(104,104))\n",
        "disp.plot(ax=ax, xticks_rotation='vertical')\n",
        "plt.show()"
      ],
      "metadata": {
        "id": "yRi5Fjp9--T5"
      },
      "execution_count": null,
      "outputs": []
    },
    {
      "cell_type": "code",
      "source": [
        "_, acc = modelP.evaluate(test_set, steps=len(test_set), verbose=0)\n",
        "print('%.3f' % (acc * 100.0))"
      ],
      "metadata": {
        "colab": {
          "base_uri": "https://localhost:8080/"
        },
        "id": "i7YLEUEi_s_i",
        "outputId": "6430a6b4-3943-4d9a-f952-690235bac52a"
      },
      "execution_count": null,
      "outputs": [
        {
          "output_type": "stream",
          "name": "stdout",
          "text": [
            "6.132\n"
          ]
        }
      ]
    }
  ],
  "metadata": {
    "colab": {
      "collapsed_sections": [
        "sF3dv6GfC35_",
        "omp_aCFmZpMs",
        "M7B4MfeiGHSd"
      ],
      "provenance": []
    },
    "gpuClass": "standard",
    "kernelspec": {
      "display_name": "Python 3",
      "name": "python3"
    },
    "language_info": {
      "name": "python"
    },
    "accelerator": "GPU"
  },
  "nbformat": 4,
  "nbformat_minor": 0
}